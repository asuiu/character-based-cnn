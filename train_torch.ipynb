{
 "cells": [
  {
   "cell_type": "code",
   "execution_count": 11,
   "metadata": {
    "pycharm": {
     "name": "#%%\n"
    }
   },
   "outputs": [
    {
     "name": "stdout",
     "output_type": "stream",
     "text": [
      "The autoreload extension is already loaded. To reload it, use:\n",
      "  %reload_ext autoreload\n"
     ]
    }
   ],
   "source": [
    "%load_ext autoreload\n",
    "%autoreload 2"
   ]
  },
  {
   "cell_type": "code",
   "execution_count": 12,
   "metadata": {
    "pycharm": {
     "name": "#%%\n"
    }
   },
   "outputs": [],
   "source": [
    "import os\n",
    "from collections import Counter\n",
    "from datetime import datetime\n",
    "\n",
    "import pandas as pd\n",
    "import torch\n",
    "import torch.nn as nn\n",
    "from sklearn.model_selection import train_test_split\n",
    "from tensorboardX import SummaryWriter\n",
    "from torch.utils.data import DataLoader\n",
    "\n",
    "from src import utils\n",
    "from src.data_loader import MyDataset, load_from_csv\n",
    "from src.model import CharacterLevelCNN\n",
    "from train import train, evaluate"
   ]
  },
  {
   "cell_type": "code",
   "execution_count": 13,
   "metadata": {
    "pycharm": {
     "name": "#%%\n"
    }
   },
   "outputs": [
    {
     "data": {
      "text/plain": [
       "(1600000, 6)"
      ]
     },
     "execution_count": 13,
     "metadata": {},
     "output_type": "execute_result"
    }
   ],
   "source": [
    "df = pd.read_csv('data/training.1600000.processed.noemoticon.csv', encoding='latin1')\n",
    "df.shape"
   ]
  },
  {
   "cell_type": "code",
   "execution_count": 11,
   "metadata": {
    "pycharm": {
     "name": "#%%\n"
    }
   },
   "outputs": [],
   "source": [
    "sample_df = df.sample(n=1000)"
   ]
  },
  {
   "cell_type": "code",
   "execution_count": 13,
   "metadata": {
    "pycharm": {
     "name": "#%%\n"
    }
   },
   "outputs": [],
   "source": [
    "sample_df[['target', 'text']].to_csv('data/sample.csv', index=False)"
   ]
  },
  {
   "cell_type": "code",
   "execution_count": 27,
   "metadata": {
    "pycharm": {
     "name": "#%%\n"
    }
   },
   "outputs": [],
   "source": [
    "# Parameters\n",
    "\n",
    "ALPHABET = \"abcdefghijklmnopqrstuvwxyz0123456789-,;.!?:'\\\"/\\\\|_@#$%^&*~`+ =<>()[]{}\"\n",
    "MAX_LEN = 150\n",
    "CLASS_WEIGHTS = False\n",
    "training_params = {\n",
    "    \"batch_size\":  128,\n",
    "    \"shuffle\":     True,\n",
    "    \"num_workers\": 1,\n",
    "    \"drop_last\":   True,\n",
    "}\n",
    "\n",
    "validation_params = {\n",
    "    \"batch_size\":  128,\n",
    "    \"shuffle\":     False,\n",
    "    \"num_workers\": 1,\n",
    "    \"drop_last\":   True,\n",
    "}\n",
    "OPTIMIZER = 'sgd'\n",
    "scheduler = 'clr'\n",
    "learning_rate = 0.01\n",
    "stepsize = 4.0\n",
    "min_lr, max_lr = 1.7e-3, 1e-2\n",
    "epochs = 10\n",
    "\n",
    "now = datetime.now()\n",
    "logdir = './log' + now.strftime(\"%Y%m%d-%H%M%S\") + \"/\"\n",
    "os.makedirs(logdir)\n",
    "log_file = logdir + \"log.txt\"\n",
    "writer = SummaryWriter(logdir)\n",
    "\n",
    "best_f1 = 0\n",
    "best_epoch = 0\n",
    "checkpoint = 1\n",
    "output = \"./models/\"\n",
    "model_name = \"cnn\"\n",
    "early_stopping = 0\n",
    "patience = 3\n"
   ]
  },
  {
   "cell_type": "code",
   "execution_count": 28,
   "metadata": {
    "pycharm": {
     "name": "#%%\n"
    }
   },
   "outputs": [
    {
     "data": {
      "text/plain": "(1000, 2)"
     },
     "execution_count": 28,
     "metadata": {},
     "output_type": "execute_result"
    }
   ],
   "source": [
    "sample_df = pd.read_csv('data/sample.csv')\n",
    "sample_df.shape"
   ]
  },
  {
   "cell_type": "code",
   "execution_count": 29,
   "metadata": {
    "pycharm": {
     "name": "#%%\n"
    }
   },
   "outputs": [
    {
     "name": "stdout",
     "output_type": "stream",
     "text": [
      "data loaded successfully with 1000 rows and 2 labels\n",
      "Distribution of the classes Counter({0: 505, 1: 495})\n"
     ]
    }
   ],
   "source": [
    "texts, labels, number_of_classes, sample_weights = load_from_csv(sample_df)"
   ]
  },
  {
   "cell_type": "code",
   "execution_count": 30,
   "metadata": {
    "pycharm": {
     "name": "#%%\n"
    }
   },
   "outputs": [],
   "source": [
    "class_names = sorted(list(set(labels)))\n",
    "class_names = [str(class_name) for class_name in class_names]\n",
    "(\n",
    "    train_texts,\n",
    "    val_texts,\n",
    "    train_labels,\n",
    "    val_labels,\n",
    "    train_sample_weights,\n",
    "    _,\n",
    ") = train_test_split(\n",
    "    texts,\n",
    "    labels,\n",
    "    sample_weights,\n",
    "    test_size=0.2,\n",
    "    random_state=42,\n",
    "    stratify=labels,\n",
    ")\n",
    "training_set = MyDataset(train_texts, train_labels, vocabulary=ALPHABET, max_length=MAX_LEN)\n",
    "validation_set = MyDataset(val_texts, val_labels, vocabulary=ALPHABET)\n",
    "training_generator = DataLoader(training_set, **training_params)\n",
    "validation_generator = DataLoader(validation_set, **validation_params)\n",
    "\n",
    "model = CharacterLevelCNN(number_of_classes, num_chars=len(ALPHABET), max_length=MAX_LEN)\n",
    "if torch.cuda.is_available():\n",
    "    model.cuda()"
   ]
  },
  {
   "cell_type": "code",
   "execution_count": 31,
   "metadata": {
    "pycharm": {
     "name": "#%%\n"
    }
   },
   "outputs": [],
   "source": [
    "if bool(CLASS_WEIGHTS):\n",
    "    class_counts = dict(Counter(train_labels))\n",
    "    m = max(class_counts.values())\n",
    "    for c in class_counts:\n",
    "        class_counts[c] = m / class_counts[c]\n",
    "    weights = []\n",
    "    for k in sorted(class_counts.keys()):\n",
    "        weights.append(class_counts[k])\n",
    "\n",
    "    weights = torch.Tensor(weights)\n",
    "    if torch.cuda.is_available():\n",
    "        weights = weights.cuda()\n",
    "        print(f\"passing weights to CrossEntropyLoss : {weights}\")\n",
    "        criterion = nn.CrossEntropyLoss(weight=weights)\n",
    "else:\n",
    "    criterion = nn.CrossEntropyLoss()\n",
    "\n",
    "if OPTIMIZER == \"sgd\":\n",
    "    if scheduler == \"clr\":\n",
    "        optimizer = torch.optim.SGD(\n",
    "            model.parameters(), lr=1, momentum=0.9, weight_decay=0.00001\n",
    "        )\n",
    "    else:\n",
    "        optimizer = torch.optim.SGD(\n",
    "            model.parameters(), lr=learning_rate, momentum=0.9\n",
    "        )\n",
    "elif OPTIMIZER == \"adam\":\n",
    "    optimizer = torch.optim.Adam(model.parameters(), lr=learning_rate)\n",
    "\n",
    "if scheduler == \"clr\":\n",
    "    stepsize = int(stepsize * len(training_generator))\n",
    "    clr = utils.cyclical_lr(stepsize, min_lr, max_lr)\n",
    "    scheduler = torch.optim.lr_scheduler.LambdaLR(optimizer, [clr])\n",
    "else:\n",
    "    scheduler = None"
   ]
  },
  {
   "cell_type": "code",
   "execution_count": 32,
   "metadata": {
    "pycharm": {
     "name": "#%%\n"
    }
   },
   "outputs": [
    {
     "name": "stderr",
     "output_type": "stream",
     "text": [
      "  0%|          | 0/6 [00:00<?, ?it/s]D:\\work\\Projects\\ML\\CharEmbedding\\character-based-cnn\\venv\\lib\\site-packages\\torch\\nn\\functional.py:1338: UserWarning: dropout2d: Received a 3D input to dropout2d and assuming that channel-wise 1D dropout behavior is desired - input is interpreted as shape (N, C, L), where C is the channel dim. This behavior will change in a future release to interpret the input as one without a batch dimension, i.e. shape (C, H, W). To maintain the 1D channel-wise dropout behavior, please switch to using dropout1d instead.\n",
      "  warnings.warn(\"dropout2d: Received a 3D input to dropout2d and assuming that channel-wise \"\n",
      " 17%|█▋        | 1/6 [00:01<00:05,  1.12s/it]D:\\work\\Projects\\ML\\CharEmbedding\\character-based-cnn\\venv\\lib\\site-packages\\torch\\nn\\functional.py:1338: UserWarning: dropout2d: Received a 3D input to dropout2d and assuming that channel-wise 1D dropout behavior is desired - input is interpreted as shape (N, C, L), where C is the channel dim. This behavior will change in a future release to interpret the input as one without a batch dimension, i.e. shape (C, H, W). To maintain the 1D channel-wise dropout behavior, please switch to using dropout1d instead.\n",
      "  warnings.warn(\"dropout2d: Received a 3D input to dropout2d and assuming that channel-wise \"\n",
      " 33%|███▎      | 2/6 [00:01<00:04,  1.02s/it]D:\\work\\Projects\\ML\\CharEmbedding\\character-based-cnn\\venv\\lib\\site-packages\\torch\\nn\\functional.py:1338: UserWarning: dropout2d: Received a 3D input to dropout2d and assuming that channel-wise 1D dropout behavior is desired - input is interpreted as shape (N, C, L), where C is the channel dim. This behavior will change in a future release to interpret the input as one without a batch dimension, i.e. shape (C, H, W). To maintain the 1D channel-wise dropout behavior, please switch to using dropout1d instead.\n",
      "  warnings.warn(\"dropout2d: Received a 3D input to dropout2d and assuming that channel-wise \"\n",
      " 50%|█████     | 3/6 [00:02<00:02,  1.05it/s]D:\\work\\Projects\\ML\\CharEmbedding\\character-based-cnn\\venv\\lib\\site-packages\\torch\\nn\\functional.py:1338: UserWarning: dropout2d: Received a 3D input to dropout2d and assuming that channel-wise 1D dropout behavior is desired - input is interpreted as shape (N, C, L), where C is the channel dim. This behavior will change in a future release to interpret the input as one without a batch dimension, i.e. shape (C, H, W). To maintain the 1D channel-wise dropout behavior, please switch to using dropout1d instead.\n",
      "  warnings.warn(\"dropout2d: Received a 3D input to dropout2d and assuming that channel-wise \"\n",
      " 67%|██████▋   | 4/6 [00:03<00:01,  1.07it/s]D:\\work\\Projects\\ML\\CharEmbedding\\character-based-cnn\\venv\\lib\\site-packages\\torch\\nn\\functional.py:1338: UserWarning: dropout2d: Received a 3D input to dropout2d and assuming that channel-wise 1D dropout behavior is desired - input is interpreted as shape (N, C, L), where C is the channel dim. This behavior will change in a future release to interpret the input as one without a batch dimension, i.e. shape (C, H, W). To maintain the 1D channel-wise dropout behavior, please switch to using dropout1d instead.\n",
      "  warnings.warn(\"dropout2d: Received a 3D input to dropout2d and assuming that channel-wise \"\n",
      " 83%|████████▎ | 5/6 [00:04<00:00,  1.10it/s]D:\\work\\Projects\\ML\\CharEmbedding\\character-based-cnn\\venv\\lib\\site-packages\\torch\\nn\\functional.py:1338: UserWarning: dropout2d: Received a 3D input to dropout2d and assuming that channel-wise 1D dropout behavior is desired - input is interpreted as shape (N, C, L), where C is the channel dim. This behavior will change in a future release to interpret the input as one without a batch dimension, i.e. shape (C, H, W). To maintain the 1D channel-wise dropout behavior, please switch to using dropout1d instead.\n",
      "  warnings.warn(\"dropout2d: Received a 3D input to dropout2d and assuming that channel-wise \"\n",
      "100%|██████████| 6/6 [00:05<00:00,  1.04it/s]\n"
     ]
    },
    {
     "name": "stdout",
     "output_type": "stream",
     "text": [
      "              precision    recall  f1-score   support\n",
      "\n",
      "           0       0.49      0.55      0.52       390\n",
      "           1       0.47      0.41      0.44       378\n",
      "\n",
      "    accuracy                           0.48       768\n",
      "   macro avg       0.48      0.48      0.48       768\n",
      "weighted avg       0.48      0.48      0.48       768\n",
      "\n"
     ]
    },
    {
     "name": "stderr",
     "output_type": "stream",
     "text": [
      "  0%|          | 0/1 [00:00<?, ?it/s]D:\\work\\Projects\\ML\\CharEmbedding\\character-based-cnn\\venv\\lib\\site-packages\\torch\\nn\\functional.py:1338: UserWarning: dropout2d: Received a 3D input to dropout2d and assuming that channel-wise 1D dropout behavior is desired - input is interpreted as shape (N, C, L), where C is the channel dim. This behavior will change in a future release to interpret the input as one without a batch dimension, i.e. shape (C, H, W). To maintain the 1D channel-wise dropout behavior, please switch to using dropout1d instead.\n",
      "  warnings.warn(\"dropout2d: Received a 3D input to dropout2d and assuming that channel-wise \"\n",
      "100%|██████████| 1/1 [00:00<00:00,  1.37it/s]\n"
     ]
    },
    {
     "name": "stdout",
     "output_type": "stream",
     "text": [
      "              precision    recall  f1-score   support\n",
      "\n",
      "           0       0.41      0.30      0.35        66\n",
      "           1       0.42      0.53      0.47        62\n",
      "\n",
      "    accuracy                           0.41       128\n",
      "   macro avg       0.41      0.42      0.41       128\n",
      "weighted avg       0.41      0.41      0.41       128\n",
      "\n",
      "[Epoch: 1 / 10]\ttrain_loss: 0.8229 \ttrain_acc: 0.4805 \tval_loss: 0.7045 \tval_acc: 0.4141\n",
      "==================================================\n"
     ]
    },
    {
     "name": "stderr",
     "output_type": "stream",
     "text": [
      "  0%|          | 0/6 [00:00<?, ?it/s]D:\\work\\Projects\\ML\\CharEmbedding\\character-based-cnn\\venv\\lib\\site-packages\\torch\\nn\\functional.py:1338: UserWarning: dropout2d: Received a 3D input to dropout2d and assuming that channel-wise 1D dropout behavior is desired - input is interpreted as shape (N, C, L), where C is the channel dim. This behavior will change in a future release to interpret the input as one without a batch dimension, i.e. shape (C, H, W). To maintain the 1D channel-wise dropout behavior, please switch to using dropout1d instead.\n",
      "  warnings.warn(\"dropout2d: Received a 3D input to dropout2d and assuming that channel-wise \"\n",
      " 17%|█▋        | 1/6 [00:00<00:03,  1.29it/s]D:\\work\\Projects\\ML\\CharEmbedding\\character-based-cnn\\venv\\lib\\site-packages\\torch\\nn\\functional.py:1338: UserWarning: dropout2d: Received a 3D input to dropout2d and assuming that channel-wise 1D dropout behavior is desired - input is interpreted as shape (N, C, L), where C is the channel dim. This behavior will change in a future release to interpret the input as one without a batch dimension, i.e. shape (C, H, W). To maintain the 1D channel-wise dropout behavior, please switch to using dropout1d instead.\n",
      "  warnings.warn(\"dropout2d: Received a 3D input to dropout2d and assuming that channel-wise \"\n",
      " 33%|███▎      | 2/6 [00:01<00:03,  1.27it/s]D:\\work\\Projects\\ML\\CharEmbedding\\character-based-cnn\\venv\\lib\\site-packages\\torch\\nn\\functional.py:1338: UserWarning: dropout2d: Received a 3D input to dropout2d and assuming that channel-wise 1D dropout behavior is desired - input is interpreted as shape (N, C, L), where C is the channel dim. This behavior will change in a future release to interpret the input as one without a batch dimension, i.e. shape (C, H, W). To maintain the 1D channel-wise dropout behavior, please switch to using dropout1d instead.\n",
      "  warnings.warn(\"dropout2d: Received a 3D input to dropout2d and assuming that channel-wise \"\n",
      " 50%|█████     | 3/6 [00:02<00:02,  1.16it/s]D:\\work\\Projects\\ML\\CharEmbedding\\character-based-cnn\\venv\\lib\\site-packages\\torch\\nn\\functional.py:1338: UserWarning: dropout2d: Received a 3D input to dropout2d and assuming that channel-wise 1D dropout behavior is desired - input is interpreted as shape (N, C, L), where C is the channel dim. This behavior will change in a future release to interpret the input as one without a batch dimension, i.e. shape (C, H, W). To maintain the 1D channel-wise dropout behavior, please switch to using dropout1d instead.\n",
      "  warnings.warn(\"dropout2d: Received a 3D input to dropout2d and assuming that channel-wise \"\n",
      " 67%|██████▋   | 4/6 [00:03<00:01,  1.14it/s]D:\\work\\Projects\\ML\\CharEmbedding\\character-based-cnn\\venv\\lib\\site-packages\\torch\\nn\\functional.py:1338: UserWarning: dropout2d: Received a 3D input to dropout2d and assuming that channel-wise 1D dropout behavior is desired - input is interpreted as shape (N, C, L), where C is the channel dim. This behavior will change in a future release to interpret the input as one without a batch dimension, i.e. shape (C, H, W). To maintain the 1D channel-wise dropout behavior, please switch to using dropout1d instead.\n",
      "  warnings.warn(\"dropout2d: Received a 3D input to dropout2d and assuming that channel-wise \"\n",
      " 83%|████████▎ | 5/6 [00:04<00:00,  1.13it/s]D:\\work\\Projects\\ML\\CharEmbedding\\character-based-cnn\\venv\\lib\\site-packages\\torch\\nn\\functional.py:1338: UserWarning: dropout2d: Received a 3D input to dropout2d and assuming that channel-wise 1D dropout behavior is desired - input is interpreted as shape (N, C, L), where C is the channel dim. This behavior will change in a future release to interpret the input as one without a batch dimension, i.e. shape (C, H, W). To maintain the 1D channel-wise dropout behavior, please switch to using dropout1d instead.\n",
      "  warnings.warn(\"dropout2d: Received a 3D input to dropout2d and assuming that channel-wise \"\n",
      "100%|██████████| 6/6 [00:05<00:00,  1.00it/s]\n"
     ]
    },
    {
     "name": "stdout",
     "output_type": "stream",
     "text": [
      "              precision    recall  f1-score   support\n",
      "\n",
      "           0       0.51      0.51      0.51       388\n",
      "           1       0.50      0.50      0.50       380\n",
      "\n",
      "    accuracy                           0.51       768\n",
      "   macro avg       0.51      0.51      0.51       768\n",
      "weighted avg       0.51      0.51      0.51       768\n",
      "\n"
     ]
    },
    {
     "name": "stderr",
     "output_type": "stream",
     "text": [
      "  0%|          | 0/1 [00:00<?, ?it/s]D:\\work\\Projects\\ML\\CharEmbedding\\character-based-cnn\\venv\\lib\\site-packages\\torch\\nn\\functional.py:1338: UserWarning: dropout2d: Received a 3D input to dropout2d and assuming that channel-wise 1D dropout behavior is desired - input is interpreted as shape (N, C, L), where C is the channel dim. This behavior will change in a future release to interpret the input as one without a batch dimension, i.e. shape (C, H, W). To maintain the 1D channel-wise dropout behavior, please switch to using dropout1d instead.\n",
      "  warnings.warn(\"dropout2d: Received a 3D input to dropout2d and assuming that channel-wise \"\n",
      "100%|██████████| 1/1 [00:00<00:00,  1.32it/s]\n"
     ]
    },
    {
     "name": "stdout",
     "output_type": "stream",
     "text": [
      "              precision    recall  f1-score   support\n",
      "\n",
      "           0       0.51      0.92      0.66        66\n",
      "           1       0.38      0.05      0.09        62\n",
      "\n",
      "    accuracy                           0.50       128\n",
      "   macro avg       0.44      0.49      0.37       128\n",
      "weighted avg       0.44      0.50      0.38       128\n",
      "\n",
      "[Epoch: 2 / 10]\ttrain_loss: 0.7590 \ttrain_acc: 0.5052 \tval_loss: 0.6908 \tval_acc: 0.5000\n",
      "==================================================\n"
     ]
    },
    {
     "name": "stderr",
     "output_type": "stream",
     "text": [
      "  0%|          | 0/6 [00:00<?, ?it/s]D:\\work\\Projects\\ML\\CharEmbedding\\character-based-cnn\\venv\\lib\\site-packages\\torch\\nn\\functional.py:1338: UserWarning: dropout2d: Received a 3D input to dropout2d and assuming that channel-wise 1D dropout behavior is desired - input is interpreted as shape (N, C, L), where C is the channel dim. This behavior will change in a future release to interpret the input as one without a batch dimension, i.e. shape (C, H, W). To maintain the 1D channel-wise dropout behavior, please switch to using dropout1d instead.\n",
      "  warnings.warn(\"dropout2d: Received a 3D input to dropout2d and assuming that channel-wise \"\n",
      " 17%|█▋        | 1/6 [00:00<00:03,  1.32it/s]D:\\work\\Projects\\ML\\CharEmbedding\\character-based-cnn\\venv\\lib\\site-packages\\torch\\nn\\functional.py:1338: UserWarning: dropout2d: Received a 3D input to dropout2d and assuming that channel-wise 1D dropout behavior is desired - input is interpreted as shape (N, C, L), where C is the channel dim. This behavior will change in a future release to interpret the input as one without a batch dimension, i.e. shape (C, H, W). To maintain the 1D channel-wise dropout behavior, please switch to using dropout1d instead.\n",
      "  warnings.warn(\"dropout2d: Received a 3D input to dropout2d and assuming that channel-wise \"\n",
      " 33%|███▎      | 2/6 [00:01<00:02,  1.38it/s]D:\\work\\Projects\\ML\\CharEmbedding\\character-based-cnn\\venv\\lib\\site-packages\\torch\\nn\\functional.py:1338: UserWarning: dropout2d: Received a 3D input to dropout2d and assuming that channel-wise 1D dropout behavior is desired - input is interpreted as shape (N, C, L), where C is the channel dim. This behavior will change in a future release to interpret the input as one without a batch dimension, i.e. shape (C, H, W). To maintain the 1D channel-wise dropout behavior, please switch to using dropout1d instead.\n",
      "  warnings.warn(\"dropout2d: Received a 3D input to dropout2d and assuming that channel-wise \"\n",
      " 50%|█████     | 3/6 [00:02<00:02,  1.32it/s]D:\\work\\Projects\\ML\\CharEmbedding\\character-based-cnn\\venv\\lib\\site-packages\\torch\\nn\\functional.py:1338: UserWarning: dropout2d: Received a 3D input to dropout2d and assuming that channel-wise 1D dropout behavior is desired - input is interpreted as shape (N, C, L), where C is the channel dim. This behavior will change in a future release to interpret the input as one without a batch dimension, i.e. shape (C, H, W). To maintain the 1D channel-wise dropout behavior, please switch to using dropout1d instead.\n",
      "  warnings.warn(\"dropout2d: Received a 3D input to dropout2d and assuming that channel-wise \"\n",
      " 67%|██████▋   | 4/6 [00:02<00:01,  1.32it/s]D:\\work\\Projects\\ML\\CharEmbedding\\character-based-cnn\\venv\\lib\\site-packages\\torch\\nn\\functional.py:1338: UserWarning: dropout2d: Received a 3D input to dropout2d and assuming that channel-wise 1D dropout behavior is desired - input is interpreted as shape (N, C, L), where C is the channel dim. This behavior will change in a future release to interpret the input as one without a batch dimension, i.e. shape (C, H, W). To maintain the 1D channel-wise dropout behavior, please switch to using dropout1d instead.\n",
      "  warnings.warn(\"dropout2d: Received a 3D input to dropout2d and assuming that channel-wise \"\n",
      " 83%|████████▎ | 5/6 [00:03<00:00,  1.38it/s]D:\\work\\Projects\\ML\\CharEmbedding\\character-based-cnn\\venv\\lib\\site-packages\\torch\\nn\\functional.py:1338: UserWarning: dropout2d: Received a 3D input to dropout2d and assuming that channel-wise 1D dropout behavior is desired - input is interpreted as shape (N, C, L), where C is the channel dim. This behavior will change in a future release to interpret the input as one without a batch dimension, i.e. shape (C, H, W). To maintain the 1D channel-wise dropout behavior, please switch to using dropout1d instead.\n",
      "  warnings.warn(\"dropout2d: Received a 3D input to dropout2d and assuming that channel-wise \"\n",
      "100%|██████████| 6/6 [00:05<00:00,  1.18it/s]\n"
     ]
    },
    {
     "name": "stdout",
     "output_type": "stream",
     "text": [
      "              precision    recall  f1-score   support\n",
      "\n",
      "           0       0.51      0.59      0.55       387\n",
      "           1       0.50      0.42      0.46       381\n",
      "\n",
      "    accuracy                           0.51       768\n",
      "   macro avg       0.50      0.50      0.50       768\n",
      "weighted avg       0.50      0.51      0.50       768\n",
      "\n"
     ]
    },
    {
     "name": "stderr",
     "output_type": "stream",
     "text": [
      "  0%|          | 0/1 [00:00<?, ?it/s]D:\\work\\Projects\\ML\\CharEmbedding\\character-based-cnn\\venv\\lib\\site-packages\\torch\\nn\\functional.py:1338: UserWarning: dropout2d: Received a 3D input to dropout2d and assuming that channel-wise 1D dropout behavior is desired - input is interpreted as shape (N, C, L), where C is the channel dim. This behavior will change in a future release to interpret the input as one without a batch dimension, i.e. shape (C, H, W). To maintain the 1D channel-wise dropout behavior, please switch to using dropout1d instead.\n",
      "  warnings.warn(\"dropout2d: Received a 3D input to dropout2d and assuming that channel-wise \"\n",
      "100%|██████████| 1/1 [00:00<00:00,  1.65it/s]\n"
     ]
    },
    {
     "name": "stdout",
     "output_type": "stream",
     "text": [
      "              precision    recall  f1-score   support\n",
      "\n",
      "           0       0.53      0.92      0.67        66\n",
      "           1       0.58      0.11      0.19        62\n",
      "\n",
      "    accuracy                           0.53       128\n",
      "   macro avg       0.55      0.52      0.43       128\n",
      "weighted avg       0.55      0.53      0.44       128\n",
      "\n",
      "[Epoch: 3 / 10]\ttrain_loss: 0.7377 \ttrain_acc: 0.5052 \tval_loss: 0.6874 \tval_acc: 0.5312\n",
      "==================================================\n"
     ]
    },
    {
     "name": "stderr",
     "output_type": "stream",
     "text": [
      "  0%|          | 0/6 [00:00<?, ?it/s]D:\\work\\Projects\\ML\\CharEmbedding\\character-based-cnn\\venv\\lib\\site-packages\\torch\\nn\\functional.py:1338: UserWarning: dropout2d: Received a 3D input to dropout2d and assuming that channel-wise 1D dropout behavior is desired - input is interpreted as shape (N, C, L), where C is the channel dim. This behavior will change in a future release to interpret the input as one without a batch dimension, i.e. shape (C, H, W). To maintain the 1D channel-wise dropout behavior, please switch to using dropout1d instead.\n",
      "  warnings.warn(\"dropout2d: Received a 3D input to dropout2d and assuming that channel-wise \"\n",
      " 17%|█▋        | 1/6 [00:00<00:03,  1.34it/s]D:\\work\\Projects\\ML\\CharEmbedding\\character-based-cnn\\venv\\lib\\site-packages\\torch\\nn\\functional.py:1338: UserWarning: dropout2d: Received a 3D input to dropout2d and assuming that channel-wise 1D dropout behavior is desired - input is interpreted as shape (N, C, L), where C is the channel dim. This behavior will change in a future release to interpret the input as one without a batch dimension, i.e. shape (C, H, W). To maintain the 1D channel-wise dropout behavior, please switch to using dropout1d instead.\n",
      "  warnings.warn(\"dropout2d: Received a 3D input to dropout2d and assuming that channel-wise \"\n",
      " 33%|███▎      | 2/6 [00:01<00:02,  1.40it/s]D:\\work\\Projects\\ML\\CharEmbedding\\character-based-cnn\\venv\\lib\\site-packages\\torch\\nn\\functional.py:1338: UserWarning: dropout2d: Received a 3D input to dropout2d and assuming that channel-wise 1D dropout behavior is desired - input is interpreted as shape (N, C, L), where C is the channel dim. This behavior will change in a future release to interpret the input as one without a batch dimension, i.e. shape (C, H, W). To maintain the 1D channel-wise dropout behavior, please switch to using dropout1d instead.\n",
      "  warnings.warn(\"dropout2d: Received a 3D input to dropout2d and assuming that channel-wise \"\n",
      " 50%|█████     | 3/6 [00:02<00:02,  1.22it/s]D:\\work\\Projects\\ML\\CharEmbedding\\character-based-cnn\\venv\\lib\\site-packages\\torch\\nn\\functional.py:1338: UserWarning: dropout2d: Received a 3D input to dropout2d and assuming that channel-wise 1D dropout behavior is desired - input is interpreted as shape (N, C, L), where C is the channel dim. This behavior will change in a future release to interpret the input as one without a batch dimension, i.e. shape (C, H, W). To maintain the 1D channel-wise dropout behavior, please switch to using dropout1d instead.\n",
      "  warnings.warn(\"dropout2d: Received a 3D input to dropout2d and assuming that channel-wise \"\n",
      " 67%|██████▋   | 4/6 [00:03<00:01,  1.27it/s]D:\\work\\Projects\\ML\\CharEmbedding\\character-based-cnn\\venv\\lib\\site-packages\\torch\\nn\\functional.py:1338: UserWarning: dropout2d: Received a 3D input to dropout2d and assuming that channel-wise 1D dropout behavior is desired - input is interpreted as shape (N, C, L), where C is the channel dim. This behavior will change in a future release to interpret the input as one without a batch dimension, i.e. shape (C, H, W). To maintain the 1D channel-wise dropout behavior, please switch to using dropout1d instead.\n",
      "  warnings.warn(\"dropout2d: Received a 3D input to dropout2d and assuming that channel-wise \"\n",
      " 83%|████████▎ | 5/6 [00:03<00:00,  1.29it/s]D:\\work\\Projects\\ML\\CharEmbedding\\character-based-cnn\\venv\\lib\\site-packages\\torch\\nn\\functional.py:1338: UserWarning: dropout2d: Received a 3D input to dropout2d and assuming that channel-wise 1D dropout behavior is desired - input is interpreted as shape (N, C, L), where C is the channel dim. This behavior will change in a future release to interpret the input as one without a batch dimension, i.e. shape (C, H, W). To maintain the 1D channel-wise dropout behavior, please switch to using dropout1d instead.\n",
      "  warnings.warn(\"dropout2d: Received a 3D input to dropout2d and assuming that channel-wise \"\n",
      "100%|██████████| 6/6 [00:04<00:00,  1.22it/s]\n"
     ]
    },
    {
     "name": "stdout",
     "output_type": "stream",
     "text": [
      "              precision    recall  f1-score   support\n",
      "\n",
      "           0       0.51      0.54      0.53       386\n",
      "           1       0.51      0.49      0.50       382\n",
      "\n",
      "    accuracy                           0.51       768\n",
      "   macro avg       0.51      0.51      0.51       768\n",
      "weighted avg       0.51      0.51      0.51       768\n",
      "\n"
     ]
    },
    {
     "name": "stderr",
     "output_type": "stream",
     "text": [
      "  0%|          | 0/1 [00:00<?, ?it/s]D:\\work\\Projects\\ML\\CharEmbedding\\character-based-cnn\\venv\\lib\\site-packages\\torch\\nn\\functional.py:1338: UserWarning: dropout2d: Received a 3D input to dropout2d and assuming that channel-wise 1D dropout behavior is desired - input is interpreted as shape (N, C, L), where C is the channel dim. This behavior will change in a future release to interpret the input as one without a batch dimension, i.e. shape (C, H, W). To maintain the 1D channel-wise dropout behavior, please switch to using dropout1d instead.\n",
      "  warnings.warn(\"dropout2d: Received a 3D input to dropout2d and assuming that channel-wise \"\n",
      "100%|██████████| 1/1 [00:00<00:00,  1.29it/s]\n"
     ]
    },
    {
     "name": "stdout",
     "output_type": "stream",
     "text": [
      "              precision    recall  f1-score   support\n",
      "\n",
      "           0       0.53      0.59      0.56        66\n",
      "           1       0.51      0.45      0.48        62\n",
      "\n",
      "    accuracy                           0.52       128\n",
      "   macro avg       0.52      0.52      0.52       128\n",
      "weighted avg       0.52      0.52      0.52       128\n",
      "\n",
      "[Epoch: 4 / 10]\ttrain_loss: 0.7079 \ttrain_acc: 0.5130 \tval_loss: 0.6881 \tval_acc: 0.5234\n",
      "==================================================\n"
     ]
    },
    {
     "name": "stderr",
     "output_type": "stream",
     "text": [
      "  0%|          | 0/6 [00:00<?, ?it/s]D:\\work\\Projects\\ML\\CharEmbedding\\character-based-cnn\\venv\\lib\\site-packages\\torch\\nn\\functional.py:1338: UserWarning: dropout2d: Received a 3D input to dropout2d and assuming that channel-wise 1D dropout behavior is desired - input is interpreted as shape (N, C, L), where C is the channel dim. This behavior will change in a future release to interpret the input as one without a batch dimension, i.e. shape (C, H, W). To maintain the 1D channel-wise dropout behavior, please switch to using dropout1d instead.\n",
      "  warnings.warn(\"dropout2d: Received a 3D input to dropout2d and assuming that channel-wise \"\n",
      " 17%|█▋        | 1/6 [00:00<00:02,  1.72it/s]D:\\work\\Projects\\ML\\CharEmbedding\\character-based-cnn\\venv\\lib\\site-packages\\torch\\nn\\functional.py:1338: UserWarning: dropout2d: Received a 3D input to dropout2d and assuming that channel-wise 1D dropout behavior is desired - input is interpreted as shape (N, C, L), where C is the channel dim. This behavior will change in a future release to interpret the input as one without a batch dimension, i.e. shape (C, H, W). To maintain the 1D channel-wise dropout behavior, please switch to using dropout1d instead.\n",
      "  warnings.warn(\"dropout2d: Received a 3D input to dropout2d and assuming that channel-wise \"\n",
      " 33%|███▎      | 2/6 [00:01<00:02,  1.73it/s]D:\\work\\Projects\\ML\\CharEmbedding\\character-based-cnn\\venv\\lib\\site-packages\\torch\\nn\\functional.py:1338: UserWarning: dropout2d: Received a 3D input to dropout2d and assuming that channel-wise 1D dropout behavior is desired - input is interpreted as shape (N, C, L), where C is the channel dim. This behavior will change in a future release to interpret the input as one without a batch dimension, i.e. shape (C, H, W). To maintain the 1D channel-wise dropout behavior, please switch to using dropout1d instead.\n",
      "  warnings.warn(\"dropout2d: Received a 3D input to dropout2d and assuming that channel-wise \"\n",
      " 50%|█████     | 3/6 [00:01<00:01,  1.70it/s]D:\\work\\Projects\\ML\\CharEmbedding\\character-based-cnn\\venv\\lib\\site-packages\\torch\\nn\\functional.py:1338: UserWarning: dropout2d: Received a 3D input to dropout2d and assuming that channel-wise 1D dropout behavior is desired - input is interpreted as shape (N, C, L), where C is the channel dim. This behavior will change in a future release to interpret the input as one without a batch dimension, i.e. shape (C, H, W). To maintain the 1D channel-wise dropout behavior, please switch to using dropout1d instead.\n",
      "  warnings.warn(\"dropout2d: Received a 3D input to dropout2d and assuming that channel-wise \"\n",
      " 67%|██████▋   | 4/6 [00:02<00:01,  1.66it/s]D:\\work\\Projects\\ML\\CharEmbedding\\character-based-cnn\\venv\\lib\\site-packages\\torch\\nn\\functional.py:1338: UserWarning: dropout2d: Received a 3D input to dropout2d and assuming that channel-wise 1D dropout behavior is desired - input is interpreted as shape (N, C, L), where C is the channel dim. This behavior will change in a future release to interpret the input as one without a batch dimension, i.e. shape (C, H, W). To maintain the 1D channel-wise dropout behavior, please switch to using dropout1d instead.\n",
      "  warnings.warn(\"dropout2d: Received a 3D input to dropout2d and assuming that channel-wise \"\n",
      " 83%|████████▎ | 5/6 [00:02<00:00,  1.70it/s]D:\\work\\Projects\\ML\\CharEmbedding\\character-based-cnn\\venv\\lib\\site-packages\\torch\\nn\\functional.py:1338: UserWarning: dropout2d: Received a 3D input to dropout2d and assuming that channel-wise 1D dropout behavior is desired - input is interpreted as shape (N, C, L), where C is the channel dim. This behavior will change in a future release to interpret the input as one without a batch dimension, i.e. shape (C, H, W). To maintain the 1D channel-wise dropout behavior, please switch to using dropout1d instead.\n",
      "  warnings.warn(\"dropout2d: Received a 3D input to dropout2d and assuming that channel-wise \"\n",
      "100%|██████████| 6/6 [00:03<00:00,  1.54it/s]\n"
     ]
    },
    {
     "name": "stdout",
     "output_type": "stream",
     "text": [
      "              precision    recall  f1-score   support\n",
      "\n",
      "           0       0.54      0.49      0.52       383\n",
      "           1       0.54      0.59      0.56       385\n",
      "\n",
      "    accuracy                           0.54       768\n",
      "   macro avg       0.54      0.54      0.54       768\n",
      "weighted avg       0.54      0.54      0.54       768\n",
      "\n"
     ]
    },
    {
     "name": "stderr",
     "output_type": "stream",
     "text": [
      "  0%|          | 0/1 [00:00<?, ?it/s]D:\\work\\Projects\\ML\\CharEmbedding\\character-based-cnn\\venv\\lib\\site-packages\\torch\\nn\\functional.py:1338: UserWarning: dropout2d: Received a 3D input to dropout2d and assuming that channel-wise 1D dropout behavior is desired - input is interpreted as shape (N, C, L), where C is the channel dim. This behavior will change in a future release to interpret the input as one without a batch dimension, i.e. shape (C, H, W). To maintain the 1D channel-wise dropout behavior, please switch to using dropout1d instead.\n",
      "  warnings.warn(\"dropout2d: Received a 3D input to dropout2d and assuming that channel-wise \"\n",
      "100%|██████████| 1/1 [00:00<00:00,  1.50it/s]\n"
     ]
    },
    {
     "name": "stdout",
     "output_type": "stream",
     "text": [
      "              precision    recall  f1-score   support\n",
      "\n",
      "           0       0.53      0.67      0.59        66\n",
      "           1       0.51      0.37      0.43        62\n",
      "\n",
      "    accuracy                           0.52       128\n",
      "   macro avg       0.52      0.52      0.51       128\n",
      "weighted avg       0.52      0.52      0.51       128\n",
      "\n",
      "[Epoch: 5 / 10]\ttrain_loss: 0.6970 \ttrain_acc: 0.5404 \tval_loss: 0.6886 \tval_acc: 0.5234\n",
      "==================================================\n"
     ]
    },
    {
     "name": "stderr",
     "output_type": "stream",
     "text": [
      "  0%|          | 0/6 [00:00<?, ?it/s]D:\\work\\Projects\\ML\\CharEmbedding\\character-based-cnn\\venv\\lib\\site-packages\\torch\\nn\\functional.py:1338: UserWarning: dropout2d: Received a 3D input to dropout2d and assuming that channel-wise 1D dropout behavior is desired - input is interpreted as shape (N, C, L), where C is the channel dim. This behavior will change in a future release to interpret the input as one without a batch dimension, i.e. shape (C, H, W). To maintain the 1D channel-wise dropout behavior, please switch to using dropout1d instead.\n",
      "  warnings.warn(\"dropout2d: Received a 3D input to dropout2d and assuming that channel-wise \"\n",
      " 17%|█▋        | 1/6 [00:01<00:06,  1.32s/it]D:\\work\\Projects\\ML\\CharEmbedding\\character-based-cnn\\venv\\lib\\site-packages\\torch\\nn\\functional.py:1338: UserWarning: dropout2d: Received a 3D input to dropout2d and assuming that channel-wise 1D dropout behavior is desired - input is interpreted as shape (N, C, L), where C is the channel dim. This behavior will change in a future release to interpret the input as one without a batch dimension, i.e. shape (C, H, W). To maintain the 1D channel-wise dropout behavior, please switch to using dropout1d instead.\n",
      "  warnings.warn(\"dropout2d: Received a 3D input to dropout2d and assuming that channel-wise \"\n",
      " 33%|███▎      | 2/6 [00:02<00:05,  1.26s/it]D:\\work\\Projects\\ML\\CharEmbedding\\character-based-cnn\\venv\\lib\\site-packages\\torch\\nn\\functional.py:1338: UserWarning: dropout2d: Received a 3D input to dropout2d and assuming that channel-wise 1D dropout behavior is desired - input is interpreted as shape (N, C, L), where C is the channel dim. This behavior will change in a future release to interpret the input as one without a batch dimension, i.e. shape (C, H, W). To maintain the 1D channel-wise dropout behavior, please switch to using dropout1d instead.\n",
      "  warnings.warn(\"dropout2d: Received a 3D input to dropout2d and assuming that channel-wise \"\n",
      " 50%|█████     | 3/6 [00:03<00:03,  1.18s/it]D:\\work\\Projects\\ML\\CharEmbedding\\character-based-cnn\\venv\\lib\\site-packages\\torch\\nn\\functional.py:1338: UserWarning: dropout2d: Received a 3D input to dropout2d and assuming that channel-wise 1D dropout behavior is desired - input is interpreted as shape (N, C, L), where C is the channel dim. This behavior will change in a future release to interpret the input as one without a batch dimension, i.e. shape (C, H, W). To maintain the 1D channel-wise dropout behavior, please switch to using dropout1d instead.\n",
      "  warnings.warn(\"dropout2d: Received a 3D input to dropout2d and assuming that channel-wise \"\n",
      " 67%|██████▋   | 4/6 [00:04<00:02,  1.12s/it]D:\\work\\Projects\\ML\\CharEmbedding\\character-based-cnn\\venv\\lib\\site-packages\\torch\\nn\\functional.py:1338: UserWarning: dropout2d: Received a 3D input to dropout2d and assuming that channel-wise 1D dropout behavior is desired - input is interpreted as shape (N, C, L), where C is the channel dim. This behavior will change in a future release to interpret the input as one without a batch dimension, i.e. shape (C, H, W). To maintain the 1D channel-wise dropout behavior, please switch to using dropout1d instead.\n",
      "  warnings.warn(\"dropout2d: Received a 3D input to dropout2d and assuming that channel-wise \"\n",
      " 83%|████████▎ | 5/6 [00:05<00:01,  1.12s/it]D:\\work\\Projects\\ML\\CharEmbedding\\character-based-cnn\\venv\\lib\\site-packages\\torch\\nn\\functional.py:1338: UserWarning: dropout2d: Received a 3D input to dropout2d and assuming that channel-wise 1D dropout behavior is desired - input is interpreted as shape (N, C, L), where C is the channel dim. This behavior will change in a future release to interpret the input as one without a batch dimension, i.e. shape (C, H, W). To maintain the 1D channel-wise dropout behavior, please switch to using dropout1d instead.\n",
      "  warnings.warn(\"dropout2d: Received a 3D input to dropout2d and assuming that channel-wise \"\n",
      "100%|██████████| 6/6 [00:06<00:00,  1.13s/it]\n"
     ]
    },
    {
     "name": "stdout",
     "output_type": "stream",
     "text": [
      "              precision    recall  f1-score   support\n",
      "\n",
      "           0       0.50      0.48      0.49       391\n",
      "           1       0.49      0.51      0.50       377\n",
      "\n",
      "    accuracy                           0.49       768\n",
      "   macro avg       0.50      0.50      0.49       768\n",
      "weighted avg       0.50      0.49      0.49       768\n",
      "\n"
     ]
    },
    {
     "name": "stderr",
     "output_type": "stream",
     "text": [
      "  0%|          | 0/1 [00:00<?, ?it/s]D:\\work\\Projects\\ML\\CharEmbedding\\character-based-cnn\\venv\\lib\\site-packages\\torch\\nn\\functional.py:1338: UserWarning: dropout2d: Received a 3D input to dropout2d and assuming that channel-wise 1D dropout behavior is desired - input is interpreted as shape (N, C, L), where C is the channel dim. This behavior will change in a future release to interpret the input as one without a batch dimension, i.e. shape (C, H, W). To maintain the 1D channel-wise dropout behavior, please switch to using dropout1d instead.\n",
      "  warnings.warn(\"dropout2d: Received a 3D input to dropout2d and assuming that channel-wise \"\n",
      "100%|██████████| 1/1 [00:00<00:00,  1.93it/s]\n"
     ]
    },
    {
     "name": "stdout",
     "output_type": "stream",
     "text": [
      "              precision    recall  f1-score   support\n",
      "\n",
      "           0       0.53      0.91      0.67        66\n",
      "           1       0.57      0.13      0.21        62\n",
      "\n",
      "    accuracy                           0.53       128\n",
      "   macro avg       0.55      0.52      0.44       128\n",
      "weighted avg       0.55      0.53      0.45       128\n",
      "\n",
      "[Epoch: 6 / 10]\ttrain_loss: 0.7196 \ttrain_acc: 0.4948 \tval_loss: 0.6854 \tval_acc: 0.5312\n",
      "==================================================\n"
     ]
    },
    {
     "name": "stderr",
     "output_type": "stream",
     "text": [
      "  0%|          | 0/6 [00:00<?, ?it/s]D:\\work\\Projects\\ML\\CharEmbedding\\character-based-cnn\\venv\\lib\\site-packages\\torch\\nn\\functional.py:1338: UserWarning: dropout2d: Received a 3D input to dropout2d and assuming that channel-wise 1D dropout behavior is desired - input is interpreted as shape (N, C, L), where C is the channel dim. This behavior will change in a future release to interpret the input as one without a batch dimension, i.e. shape (C, H, W). To maintain the 1D channel-wise dropout behavior, please switch to using dropout1d instead.\n",
      "  warnings.warn(\"dropout2d: Received a 3D input to dropout2d and assuming that channel-wise \"\n",
      " 17%|█▋        | 1/6 [00:00<00:03,  1.35it/s]D:\\work\\Projects\\ML\\CharEmbedding\\character-based-cnn\\venv\\lib\\site-packages\\torch\\nn\\functional.py:1338: UserWarning: dropout2d: Received a 3D input to dropout2d and assuming that channel-wise 1D dropout behavior is desired - input is interpreted as shape (N, C, L), where C is the channel dim. This behavior will change in a future release to interpret the input as one without a batch dimension, i.e. shape (C, H, W). To maintain the 1D channel-wise dropout behavior, please switch to using dropout1d instead.\n",
      "  warnings.warn(\"dropout2d: Received a 3D input to dropout2d and assuming that channel-wise \"\n",
      " 33%|███▎      | 2/6 [00:01<00:03,  1.18it/s]D:\\work\\Projects\\ML\\CharEmbedding\\character-based-cnn\\venv\\lib\\site-packages\\torch\\nn\\functional.py:1338: UserWarning: dropout2d: Received a 3D input to dropout2d and assuming that channel-wise 1D dropout behavior is desired - input is interpreted as shape (N, C, L), where C is the channel dim. This behavior will change in a future release to interpret the input as one without a batch dimension, i.e. shape (C, H, W). To maintain the 1D channel-wise dropout behavior, please switch to using dropout1d instead.\n",
      "  warnings.warn(\"dropout2d: Received a 3D input to dropout2d and assuming that channel-wise \"\n",
      " 50%|█████     | 3/6 [00:03<00:03,  1.04s/it]D:\\work\\Projects\\ML\\CharEmbedding\\character-based-cnn\\venv\\lib\\site-packages\\torch\\nn\\functional.py:1338: UserWarning: dropout2d: Received a 3D input to dropout2d and assuming that channel-wise 1D dropout behavior is desired - input is interpreted as shape (N, C, L), where C is the channel dim. This behavior will change in a future release to interpret the input as one without a batch dimension, i.e. shape (C, H, W). To maintain the 1D channel-wise dropout behavior, please switch to using dropout1d instead.\n",
      "  warnings.warn(\"dropout2d: Received a 3D input to dropout2d and assuming that channel-wise \"\n",
      " 67%|██████▋   | 4/6 [00:04<00:01,  1.01it/s]D:\\work\\Projects\\ML\\CharEmbedding\\character-based-cnn\\venv\\lib\\site-packages\\torch\\nn\\functional.py:1338: UserWarning: dropout2d: Received a 3D input to dropout2d and assuming that channel-wise 1D dropout behavior is desired - input is interpreted as shape (N, C, L), where C is the channel dim. This behavior will change in a future release to interpret the input as one without a batch dimension, i.e. shape (C, H, W). To maintain the 1D channel-wise dropout behavior, please switch to using dropout1d instead.\n",
      "  warnings.warn(\"dropout2d: Received a 3D input to dropout2d and assuming that channel-wise \"\n",
      " 83%|████████▎ | 5/6 [00:04<00:00,  1.08it/s]D:\\work\\Projects\\ML\\CharEmbedding\\character-based-cnn\\venv\\lib\\site-packages\\torch\\nn\\functional.py:1338: UserWarning: dropout2d: Received a 3D input to dropout2d and assuming that channel-wise 1D dropout behavior is desired - input is interpreted as shape (N, C, L), where C is the channel dim. This behavior will change in a future release to interpret the input as one without a batch dimension, i.e. shape (C, H, W). To maintain the 1D channel-wise dropout behavior, please switch to using dropout1d instead.\n",
      "  warnings.warn(\"dropout2d: Received a 3D input to dropout2d and assuming that channel-wise \"\n",
      "100%|██████████| 6/6 [00:06<00:00,  1.04s/it]\n"
     ]
    },
    {
     "name": "stdout",
     "output_type": "stream",
     "text": [
      "              precision    recall  f1-score   support\n",
      "\n",
      "           0       0.50      0.59      0.54       394\n",
      "           1       0.47      0.38      0.42       374\n",
      "\n",
      "    accuracy                           0.49       768\n",
      "   macro avg       0.48      0.48      0.48       768\n",
      "weighted avg       0.48      0.49      0.48       768\n",
      "\n"
     ]
    },
    {
     "name": "stderr",
     "output_type": "stream",
     "text": [
      "  0%|          | 0/1 [00:00<?, ?it/s]D:\\work\\Projects\\ML\\CharEmbedding\\character-based-cnn\\venv\\lib\\site-packages\\torch\\nn\\functional.py:1338: UserWarning: dropout2d: Received a 3D input to dropout2d and assuming that channel-wise 1D dropout behavior is desired - input is interpreted as shape (N, C, L), where C is the channel dim. This behavior will change in a future release to interpret the input as one without a batch dimension, i.e. shape (C, H, W). To maintain the 1D channel-wise dropout behavior, please switch to using dropout1d instead.\n",
      "  warnings.warn(\"dropout2d: Received a 3D input to dropout2d and assuming that channel-wise \"\n",
      "100%|██████████| 1/1 [00:00<00:00,  2.02it/s]\n"
     ]
    },
    {
     "name": "stdout",
     "output_type": "stream",
     "text": [
      "              precision    recall  f1-score   support\n",
      "\n",
      "           0       0.52      0.97      0.68        66\n",
      "           1       0.67      0.06      0.12        62\n",
      "\n",
      "    accuracy                           0.53       128\n",
      "   macro avg       0.60      0.52      0.40       128\n",
      "weighted avg       0.59      0.53      0.41       128\n",
      "\n",
      "[Epoch: 7 / 10]\ttrain_loss: 0.7161 \ttrain_acc: 0.4870 \tval_loss: 0.6858 \tval_acc: 0.5312\n",
      "==================================================\n"
     ]
    },
    {
     "name": "stderr",
     "output_type": "stream",
     "text": [
      "  0%|          | 0/6 [00:00<?, ?it/s]D:\\work\\Projects\\ML\\CharEmbedding\\character-based-cnn\\venv\\lib\\site-packages\\torch\\nn\\functional.py:1338: UserWarning: dropout2d: Received a 3D input to dropout2d and assuming that channel-wise 1D dropout behavior is desired - input is interpreted as shape (N, C, L), where C is the channel dim. This behavior will change in a future release to interpret the input as one without a batch dimension, i.e. shape (C, H, W). To maintain the 1D channel-wise dropout behavior, please switch to using dropout1d instead.\n",
      "  warnings.warn(\"dropout2d: Received a 3D input to dropout2d and assuming that channel-wise \"\n",
      " 17%|█▋        | 1/6 [00:00<00:03,  1.28it/s]D:\\work\\Projects\\ML\\CharEmbedding\\character-based-cnn\\venv\\lib\\site-packages\\torch\\nn\\functional.py:1338: UserWarning: dropout2d: Received a 3D input to dropout2d and assuming that channel-wise 1D dropout behavior is desired - input is interpreted as shape (N, C, L), where C is the channel dim. This behavior will change in a future release to interpret the input as one without a batch dimension, i.e. shape (C, H, W). To maintain the 1D channel-wise dropout behavior, please switch to using dropout1d instead.\n",
      "  warnings.warn(\"dropout2d: Received a 3D input to dropout2d and assuming that channel-wise \"\n",
      " 33%|███▎      | 2/6 [00:01<00:03,  1.31it/s]D:\\work\\Projects\\ML\\CharEmbedding\\character-based-cnn\\venv\\lib\\site-packages\\torch\\nn\\functional.py:1338: UserWarning: dropout2d: Received a 3D input to dropout2d and assuming that channel-wise 1D dropout behavior is desired - input is interpreted as shape (N, C, L), where C is the channel dim. This behavior will change in a future release to interpret the input as one without a batch dimension, i.e. shape (C, H, W). To maintain the 1D channel-wise dropout behavior, please switch to using dropout1d instead.\n",
      "  warnings.warn(\"dropout2d: Received a 3D input to dropout2d and assuming that channel-wise \"\n",
      " 50%|█████     | 3/6 [00:02<00:02,  1.33it/s]D:\\work\\Projects\\ML\\CharEmbedding\\character-based-cnn\\venv\\lib\\site-packages\\torch\\nn\\functional.py:1338: UserWarning: dropout2d: Received a 3D input to dropout2d and assuming that channel-wise 1D dropout behavior is desired - input is interpreted as shape (N, C, L), where C is the channel dim. This behavior will change in a future release to interpret the input as one without a batch dimension, i.e. shape (C, H, W). To maintain the 1D channel-wise dropout behavior, please switch to using dropout1d instead.\n",
      "  warnings.warn(\"dropout2d: Received a 3D input to dropout2d and assuming that channel-wise \"\n",
      " 67%|██████▋   | 4/6 [00:02<00:01,  1.33it/s]D:\\work\\Projects\\ML\\CharEmbedding\\character-based-cnn\\venv\\lib\\site-packages\\torch\\nn\\functional.py:1338: UserWarning: dropout2d: Received a 3D input to dropout2d and assuming that channel-wise 1D dropout behavior is desired - input is interpreted as shape (N, C, L), where C is the channel dim. This behavior will change in a future release to interpret the input as one without a batch dimension, i.e. shape (C, H, W). To maintain the 1D channel-wise dropout behavior, please switch to using dropout1d instead.\n",
      "  warnings.warn(\"dropout2d: Received a 3D input to dropout2d and assuming that channel-wise \"\n",
      " 83%|████████▎ | 5/6 [00:03<00:00,  1.44it/s]D:\\work\\Projects\\ML\\CharEmbedding\\character-based-cnn\\venv\\lib\\site-packages\\torch\\nn\\functional.py:1338: UserWarning: dropout2d: Received a 3D input to dropout2d and assuming that channel-wise 1D dropout behavior is desired - input is interpreted as shape (N, C, L), where C is the channel dim. This behavior will change in a future release to interpret the input as one without a batch dimension, i.e. shape (C, H, W). To maintain the 1D channel-wise dropout behavior, please switch to using dropout1d instead.\n",
      "  warnings.warn(\"dropout2d: Received a 3D input to dropout2d and assuming that channel-wise \"\n",
      "100%|██████████| 6/6 [00:04<00:00,  1.29it/s]\n"
     ]
    },
    {
     "name": "stdout",
     "output_type": "stream",
     "text": [
      "              precision    recall  f1-score   support\n",
      "\n",
      "           0       0.53      0.63      0.57       393\n",
      "           1       0.51      0.41      0.45       375\n",
      "\n",
      "    accuracy                           0.52       768\n",
      "   macro avg       0.52      0.52      0.51       768\n",
      "weighted avg       0.52      0.52      0.51       768\n",
      "\n"
     ]
    },
    {
     "name": "stderr",
     "output_type": "stream",
     "text": [
      "  0%|          | 0/1 [00:00<?, ?it/s]D:\\work\\Projects\\ML\\CharEmbedding\\character-based-cnn\\venv\\lib\\site-packages\\torch\\nn\\functional.py:1338: UserWarning: dropout2d: Received a 3D input to dropout2d and assuming that channel-wise 1D dropout behavior is desired - input is interpreted as shape (N, C, L), where C is the channel dim. This behavior will change in a future release to interpret the input as one without a batch dimension, i.e. shape (C, H, W). To maintain the 1D channel-wise dropout behavior, please switch to using dropout1d instead.\n",
      "  warnings.warn(\"dropout2d: Received a 3D input to dropout2d and assuming that channel-wise \"\n",
      "100%|██████████| 1/1 [00:01<00:00,  1.34s/it]\n"
     ]
    },
    {
     "name": "stdout",
     "output_type": "stream",
     "text": [
      "              precision    recall  f1-score   support\n",
      "\n",
      "           0       0.56      0.82      0.66        66\n",
      "           1       0.61      0.31      0.41        62\n",
      "\n",
      "    accuracy                           0.57       128\n",
      "   macro avg       0.58      0.56      0.54       128\n",
      "weighted avg       0.58      0.57      0.54       128\n",
      "\n",
      "[Epoch: 8 / 10]\ttrain_loss: 0.7051 \ttrain_acc: 0.5208 \tval_loss: 0.6858 \tval_acc: 0.5703\n",
      "==================================================\n"
     ]
    },
    {
     "name": "stderr",
     "output_type": "stream",
     "text": [
      "  0%|          | 0/6 [00:00<?, ?it/s]D:\\work\\Projects\\ML\\CharEmbedding\\character-based-cnn\\venv\\lib\\site-packages\\torch\\nn\\functional.py:1338: UserWarning: dropout2d: Received a 3D input to dropout2d and assuming that channel-wise 1D dropout behavior is desired - input is interpreted as shape (N, C, L), where C is the channel dim. This behavior will change in a future release to interpret the input as one without a batch dimension, i.e. shape (C, H, W). To maintain the 1D channel-wise dropout behavior, please switch to using dropout1d instead.\n",
      "  warnings.warn(\"dropout2d: Received a 3D input to dropout2d and assuming that channel-wise \"\n",
      " 17%|█▋        | 1/6 [00:02<00:13,  2.71s/it]D:\\work\\Projects\\ML\\CharEmbedding\\character-based-cnn\\venv\\lib\\site-packages\\torch\\nn\\functional.py:1338: UserWarning: dropout2d: Received a 3D input to dropout2d and assuming that channel-wise 1D dropout behavior is desired - input is interpreted as shape (N, C, L), where C is the channel dim. This behavior will change in a future release to interpret the input as one without a batch dimension, i.e. shape (C, H, W). To maintain the 1D channel-wise dropout behavior, please switch to using dropout1d instead.\n",
      "  warnings.warn(\"dropout2d: Received a 3D input to dropout2d and assuming that channel-wise \"\n",
      " 33%|███▎      | 2/6 [00:03<00:08,  2.24s/it]D:\\work\\Projects\\ML\\CharEmbedding\\character-based-cnn\\venv\\lib\\site-packages\\torch\\nn\\functional.py:1338: UserWarning: dropout2d: Received a 3D input to dropout2d and assuming that channel-wise 1D dropout behavior is desired - input is interpreted as shape (N, C, L), where C is the channel dim. This behavior will change in a future release to interpret the input as one without a batch dimension, i.e. shape (C, H, W). To maintain the 1D channel-wise dropout behavior, please switch to using dropout1d instead.\n",
      "  warnings.warn(\"dropout2d: Received a 3D input to dropout2d and assuming that channel-wise \"\n",
      " 50%|█████     | 3/6 [00:04<00:05,  1.80s/it]D:\\work\\Projects\\ML\\CharEmbedding\\character-based-cnn\\venv\\lib\\site-packages\\torch\\nn\\functional.py:1338: UserWarning: dropout2d: Received a 3D input to dropout2d and assuming that channel-wise 1D dropout behavior is desired - input is interpreted as shape (N, C, L), where C is the channel dim. This behavior will change in a future release to interpret the input as one without a batch dimension, i.e. shape (C, H, W). To maintain the 1D channel-wise dropout behavior, please switch to using dropout1d instead.\n",
      "  warnings.warn(\"dropout2d: Received a 3D input to dropout2d and assuming that channel-wise \"\n",
      " 67%|██████▋   | 4/6 [00:05<00:02,  1.48s/it]D:\\work\\Projects\\ML\\CharEmbedding\\character-based-cnn\\venv\\lib\\site-packages\\torch\\nn\\functional.py:1338: UserWarning: dropout2d: Received a 3D input to dropout2d and assuming that channel-wise 1D dropout behavior is desired - input is interpreted as shape (N, C, L), where C is the channel dim. This behavior will change in a future release to interpret the input as one without a batch dimension, i.e. shape (C, H, W). To maintain the 1D channel-wise dropout behavior, please switch to using dropout1d instead.\n",
      "  warnings.warn(\"dropout2d: Received a 3D input to dropout2d and assuming that channel-wise \"\n",
      " 83%|████████▎ | 5/6 [00:06<00:01,  1.25s/it]D:\\work\\Projects\\ML\\CharEmbedding\\character-based-cnn\\venv\\lib\\site-packages\\torch\\nn\\functional.py:1338: UserWarning: dropout2d: Received a 3D input to dropout2d and assuming that channel-wise 1D dropout behavior is desired - input is interpreted as shape (N, C, L), where C is the channel dim. This behavior will change in a future release to interpret the input as one without a batch dimension, i.e. shape (C, H, W). To maintain the 1D channel-wise dropout behavior, please switch to using dropout1d instead.\n",
      "  warnings.warn(\"dropout2d: Received a 3D input to dropout2d and assuming that channel-wise \"\n",
      "100%|██████████| 6/6 [00:07<00:00,  1.25s/it]\n"
     ]
    },
    {
     "name": "stdout",
     "output_type": "stream",
     "text": [
      "              precision    recall  f1-score   support\n",
      "\n",
      "           0       0.55      0.53      0.54       391\n",
      "           1       0.53      0.55      0.54       377\n",
      "\n",
      "    accuracy                           0.54       768\n",
      "   macro avg       0.54      0.54      0.54       768\n",
      "weighted avg       0.54      0.54      0.54       768\n",
      "\n"
     ]
    },
    {
     "name": "stderr",
     "output_type": "stream",
     "text": [
      "  0%|          | 0/1 [00:00<?, ?it/s]D:\\work\\Projects\\ML\\CharEmbedding\\character-based-cnn\\venv\\lib\\site-packages\\torch\\nn\\functional.py:1338: UserWarning: dropout2d: Received a 3D input to dropout2d and assuming that channel-wise 1D dropout behavior is desired - input is interpreted as shape (N, C, L), where C is the channel dim. This behavior will change in a future release to interpret the input as one without a batch dimension, i.e. shape (C, H, W). To maintain the 1D channel-wise dropout behavior, please switch to using dropout1d instead.\n",
      "  warnings.warn(\"dropout2d: Received a 3D input to dropout2d and assuming that channel-wise \"\n",
      "100%|██████████| 1/1 [00:00<00:00,  1.81it/s]\n"
     ]
    },
    {
     "name": "stdout",
     "output_type": "stream",
     "text": [
      "              precision    recall  f1-score   support\n",
      "\n",
      "           0       0.60      0.56      0.58        66\n",
      "           1       0.56      0.60      0.58        62\n",
      "\n",
      "    accuracy                           0.58       128\n",
      "   macro avg       0.58      0.58      0.58       128\n",
      "weighted avg       0.58      0.58      0.58       128\n",
      "\n",
      "[Epoch: 9 / 10]\ttrain_loss: 0.7028 \ttrain_acc: 0.5417 \tval_loss: 0.6864 \tval_acc: 0.5781\n",
      "==================================================\n"
     ]
    },
    {
     "name": "stderr",
     "output_type": "stream",
     "text": [
      "  0%|          | 0/6 [00:00<?, ?it/s]D:\\work\\Projects\\ML\\CharEmbedding\\character-based-cnn\\venv\\lib\\site-packages\\torch\\nn\\functional.py:1338: UserWarning: dropout2d: Received a 3D input to dropout2d and assuming that channel-wise 1D dropout behavior is desired - input is interpreted as shape (N, C, L), where C is the channel dim. This behavior will change in a future release to interpret the input as one without a batch dimension, i.e. shape (C, H, W). To maintain the 1D channel-wise dropout behavior, please switch to using dropout1d instead.\n",
      "  warnings.warn(\"dropout2d: Received a 3D input to dropout2d and assuming that channel-wise \"\n",
      " 17%|█▋        | 1/6 [00:00<00:03,  1.67it/s]D:\\work\\Projects\\ML\\CharEmbedding\\character-based-cnn\\venv\\lib\\site-packages\\torch\\nn\\functional.py:1338: UserWarning: dropout2d: Received a 3D input to dropout2d and assuming that channel-wise 1D dropout behavior is desired - input is interpreted as shape (N, C, L), where C is the channel dim. This behavior will change in a future release to interpret the input as one without a batch dimension, i.e. shape (C, H, W). To maintain the 1D channel-wise dropout behavior, please switch to using dropout1d instead.\n",
      "  warnings.warn(\"dropout2d: Received a 3D input to dropout2d and assuming that channel-wise \"\n",
      " 33%|███▎      | 2/6 [00:01<00:02,  1.67it/s]D:\\work\\Projects\\ML\\CharEmbedding\\character-based-cnn\\venv\\lib\\site-packages\\torch\\nn\\functional.py:1338: UserWarning: dropout2d: Received a 3D input to dropout2d and assuming that channel-wise 1D dropout behavior is desired - input is interpreted as shape (N, C, L), where C is the channel dim. This behavior will change in a future release to interpret the input as one without a batch dimension, i.e. shape (C, H, W). To maintain the 1D channel-wise dropout behavior, please switch to using dropout1d instead.\n",
      "  warnings.warn(\"dropout2d: Received a 3D input to dropout2d and assuming that channel-wise \"\n",
      " 50%|█████     | 3/6 [00:01<00:01,  1.64it/s]D:\\work\\Projects\\ML\\CharEmbedding\\character-based-cnn\\venv\\lib\\site-packages\\torch\\nn\\functional.py:1338: UserWarning: dropout2d: Received a 3D input to dropout2d and assuming that channel-wise 1D dropout behavior is desired - input is interpreted as shape (N, C, L), where C is the channel dim. This behavior will change in a future release to interpret the input as one without a batch dimension, i.e. shape (C, H, W). To maintain the 1D channel-wise dropout behavior, please switch to using dropout1d instead.\n",
      "  warnings.warn(\"dropout2d: Received a 3D input to dropout2d and assuming that channel-wise \"\n",
      " 67%|██████▋   | 4/6 [00:02<00:01,  1.68it/s]D:\\work\\Projects\\ML\\CharEmbedding\\character-based-cnn\\venv\\lib\\site-packages\\torch\\nn\\functional.py:1338: UserWarning: dropout2d: Received a 3D input to dropout2d and assuming that channel-wise 1D dropout behavior is desired - input is interpreted as shape (N, C, L), where C is the channel dim. This behavior will change in a future release to interpret the input as one without a batch dimension, i.e. shape (C, H, W). To maintain the 1D channel-wise dropout behavior, please switch to using dropout1d instead.\n",
      "  warnings.warn(\"dropout2d: Received a 3D input to dropout2d and assuming that channel-wise \"\n",
      " 83%|████████▎ | 5/6 [00:02<00:00,  1.70it/s]D:\\work\\Projects\\ML\\CharEmbedding\\character-based-cnn\\venv\\lib\\site-packages\\torch\\nn\\functional.py:1338: UserWarning: dropout2d: Received a 3D input to dropout2d and assuming that channel-wise 1D dropout behavior is desired - input is interpreted as shape (N, C, L), where C is the channel dim. This behavior will change in a future release to interpret the input as one without a batch dimension, i.e. shape (C, H, W). To maintain the 1D channel-wise dropout behavior, please switch to using dropout1d instead.\n",
      "  warnings.warn(\"dropout2d: Received a 3D input to dropout2d and assuming that channel-wise \"\n",
      "100%|██████████| 6/6 [00:03<00:00,  1.57it/s]\n"
     ]
    },
    {
     "name": "stdout",
     "output_type": "stream",
     "text": [
      "              precision    recall  f1-score   support\n",
      "\n",
      "           0       0.51      0.53      0.52       388\n",
      "           1       0.50      0.49      0.49       380\n",
      "\n",
      "    accuracy                           0.51       768\n",
      "   macro avg       0.51      0.51      0.51       768\n",
      "weighted avg       0.51      0.51      0.51       768\n",
      "\n"
     ]
    },
    {
     "name": "stderr",
     "output_type": "stream",
     "text": [
      "  0%|          | 0/1 [00:00<?, ?it/s]D:\\work\\Projects\\ML\\CharEmbedding\\character-based-cnn\\venv\\lib\\site-packages\\torch\\nn\\functional.py:1338: UserWarning: dropout2d: Received a 3D input to dropout2d and assuming that channel-wise 1D dropout behavior is desired - input is interpreted as shape (N, C, L), where C is the channel dim. This behavior will change in a future release to interpret the input as one without a batch dimension, i.e. shape (C, H, W). To maintain the 1D channel-wise dropout behavior, please switch to using dropout1d instead.\n",
      "  warnings.warn(\"dropout2d: Received a 3D input to dropout2d and assuming that channel-wise \"\n",
      "100%|██████████| 1/1 [00:00<00:00,  1.98it/s]"
     ]
    },
    {
     "name": "stdout",
     "output_type": "stream",
     "text": [
      "              precision    recall  f1-score   support\n",
      "\n",
      "           0       0.54      0.77      0.63        66\n",
      "           1       0.55      0.29      0.38        62\n",
      "\n",
      "    accuracy                           0.54       128\n",
      "   macro avg       0.54      0.53      0.51       128\n",
      "weighted avg       0.54      0.54      0.51       128\n",
      "\n",
      "[Epoch: 10 / 10]\ttrain_loss: 0.7041 \ttrain_acc: 0.5078 \tval_loss: 0.6858 \tval_acc: 0.5391\n",
      "==================================================\n"
     ]
    },
    {
     "name": "stderr",
     "output_type": "stream",
     "text": [
      "\n"
     ]
    }
   ],
   "source": [
    "for epoch in range(epochs):\n",
    "    training_loss, training_accuracy, train_f1 = train(\n",
    "        model,\n",
    "        training_generator,\n",
    "        optimizer,\n",
    "        criterion,\n",
    "        epoch,\n",
    "        writer,\n",
    "        log_file,\n",
    "        scheduler,\n",
    "        class_names,\n",
    "    )\n",
    "\n",
    "    validation_loss, validation_accuracy, validation_f1 = evaluate(\n",
    "        model,\n",
    "        validation_generator,\n",
    "        criterion,\n",
    "        epoch,\n",
    "        writer,\n",
    "        log_file,\n",
    "    )\n",
    "\n",
    "    print(\n",
    "        \"[Epoch: {} / {}]\\ttrain_loss: {:.4f} \\ttrain_acc: {:.4f} \\tval_loss: {:.4f} \\tval_acc: {:.4f}\".format(\n",
    "            epoch + 1,\n",
    "            epochs,\n",
    "            training_loss,\n",
    "            training_accuracy,\n",
    "            validation_loss,\n",
    "            validation_accuracy,\n",
    "        )\n",
    "    )\n",
    "    print(\"=\" * 50)\n",
    "\n",
    "    # learning rate scheduling\n",
    "\n",
    "    if scheduler == \"step\":\n",
    "        if optimizer == \"sgd\" and ((epoch + 1) % 3 == 0) and epoch > 0:\n",
    "            current_lr = optimizer.state_dict()[\"param_groups\"][0][\"lr\"]\n",
    "            current_lr /= 2\n",
    "            print(\"Decreasing learning rate to {0}\".format(current_lr))\n",
    "            for param_group in optimizer.param_groups:\n",
    "                param_group[\"lr\"] = current_lr\n",
    "\n",
    "    # model checkpoint\n",
    "\n",
    "    if validation_f1 > best_f1:\n",
    "        best_f1 = validation_f1\n",
    "        best_epoch = epoch\n",
    "        if checkpoint == 1:\n",
    "            torch.save(\n",
    "                model.state_dict(),\n",
    "                output\n",
    "                + \"model_{}_epoch_{}_maxlen_{}_lr_{}_loss_{}_acc_{}_f1_{}.pth\".format(\n",
    "                    model_name,\n",
    "                    epoch,\n",
    "                    MAX_LEN,\n",
    "                    optimizer.state_dict()[\"param_groups\"][0][\"lr\"],\n",
    "                    round(validation_loss, 4),\n",
    "                    round(validation_accuracy, 4),\n",
    "                    round(validation_f1, 4),\n",
    "                ),\n",
    "            )\n",
    "\n",
    "    if bool(early_stopping):\n",
    "        if epoch - best_epoch > patience > 0:\n",
    "            print(\n",
    "                \"Stop training at epoch {}. The lowest loss achieved is {} at epoch {}\".format(\n",
    "                    epoch, validation_loss, best_epoch\n",
    "                )\n",
    "            )\n",
    "            break"
   ]
  }
 ],
 "metadata": {
  "kernelspec": {
   "display_name": "Python 3 (ipykernel)",
   "language": "python",
   "name": "python3"
  },
  "language_info": {
   "codemirror_mode": {
    "name": "ipython",
    "version": 3
   },
   "file_extension": ".py",
   "mimetype": "text/x-python",
   "name": "python",
   "nbconvert_exporter": "python",
   "pygments_lexer": "ipython3",
   "version": "3.7.4"
  }
 },
 "nbformat": 4,
 "nbformat_minor": 1
}